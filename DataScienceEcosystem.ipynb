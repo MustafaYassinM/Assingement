{
 "cells": [
  {
   "cell_type": "markdown",
   "id": "1c96cfd8",
   "metadata": {},
   "source": [
    "# Data Science Tools and Ecosystem"
   ]
  },
  {
   "cell_type": "markdown",
   "id": "eee41805",
   "metadata": {},
   "source": [
    "In this notebook, Data Science Tools and Ecosystem are summarized."
   ]
  },
  {
   "cell_type": "markdown",
   "id": "ebb59f28",
   "metadata": {},
   "source": [
    "**Objectives:**\n",
    " - List popular languages for Data Science\n",
    " - List popular libraries in data science\n",
    " - Give an example of arthimitic operations in python"
   ]
  },
  {
   "cell_type": "markdown",
   "id": "5e2a169f",
   "metadata": {},
   "source": [
    "Some of the popular languages that Data Scientists use are:\n",
    "  1.Python\n",
    "  2.R\n",
    "  3.Julia\n",
    "  4.Java "
   ]
  },
  {
   "cell_type": "code",
   "execution_count": null,
   "id": "3d8a777c",
   "metadata": {},
   "outputs": [],
   "source": [
    "Some of the commonly used libraries used by Data Scientists include:\n",
    "    1.pandas\n",
    "    2.numpy\n",
    "    3.seaborn\n",
    "    4.sklearn\n"
   ]
  },
  {
   "cell_type": "markdown",
   "id": "5dc6ee66",
   "metadata": {},
   "source": [
    "### Below are a few examples of evaluating arithmetic expressions in Python:\n",
    "\n",
    "- 12*5\n",
    "- 12-3\n",
    "- 8/4\n",
    "- 2**2"
   ]
  },
  {
   "cell_type": "code",
   "execution_count": 2,
   "id": "4efe3aac",
   "metadata": {},
   "outputs": [
    {
     "name": "stdout",
     "output_type": "stream",
     "text": [
      "3.3333333333333335 Hours\n"
     ]
    }
   ],
   "source": [
    "#This will convert 200 minutes to hours by diving by 60\n",
    "print(200/60, \"Hours\")"
   ]
  },
  {
   "cell_type": "code",
   "execution_count": 3,
   "id": "4a7745fc",
   "metadata": {},
   "outputs": [
    {
     "data": {
      "text/plain": [
       "17"
      ]
     },
     "execution_count": 3,
     "metadata": {},
     "output_type": "execute_result"
    }
   ],
   "source": [
    "#This a simple arithmetic expression to mutiply then add integers\n",
    "(3*4)+5 "
   ]
  },
  {
   "cell_type": "markdown",
   "id": "8306e25d",
   "metadata": {},
   "source": [
    "## Author\n",
    "Mustafa Yassin"
   ]
  }
 ],
 "metadata": {
  "kernelspec": {
   "display_name": "Python 3 (ipykernel)",
   "language": "python",
   "name": "python3"
  },
  "language_info": {
   "codemirror_mode": {
    "name": "ipython",
    "version": 3
   },
   "file_extension": ".py",
   "mimetype": "text/x-python",
   "name": "python",
   "nbconvert_exporter": "python",
   "pygments_lexer": "ipython3",
   "version": "3.9.12"
  }
 },
 "nbformat": 4,
 "nbformat_minor": 5
}
